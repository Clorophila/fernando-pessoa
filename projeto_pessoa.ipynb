{
 "cells": [
  {
   "cell_type": "markdown",
   "metadata": {},
   "source": [
    "# Classificador de poemas do Fernando Pessoa"
   ]
  },
  {
   "cell_type": "markdown",
   "metadata": {},
   "source": [
    "## Passo 0: importando as bibliotecas"
   ]
  },
  {
   "cell_type": "code",
   "execution_count": 40,
   "metadata": {
    "colab": {
     "base_uri": "https://localhost:8080/",
     "height": 71
    },
    "colab_type": "code",
    "executionInfo": {
     "elapsed": 1192,
     "status": "ok",
     "timestamp": 1573684847920,
     "user": {
      "displayName": "Fernando Matsumoto",
      "photoUrl": "",
      "userId": "02497909482286168309"
     },
     "user_tz": 120
    },
    "id": "huhOdj9WJL-k",
    "outputId": "eed756fd-c641-4aae-da86-6bb723067c82"
   },
   "outputs": [],
   "source": [
    "import pandas as pd\n",
    "from nltk.corpus import stopwords\n",
    "from bs4 import BeautifulSoup\n",
    "import re\n",
    "from nltk.stem.snowball import PortugueseStemmer\n",
    "import numpy as np\n",
    "from sklearn.metrics.pairwise import cosine_similarity, euclidean_distances\n",
    "from sklearn.metrics import jaccard_similarity_score\n",
    "import nltk\n",
    "import matplotlib.pyplot as plt\n",
    "from sklearn.decomposition import PCA\n",
    "import unicodedata\n",
    "from langdetect import detect\n",
    "import spacy"
   ]
  },
  {
   "cell_type": "markdown",
   "metadata": {},
   "source": [
    "## Passo 1: carregar o dataset e filtrar por autores mais frequentes"
   ]
  },
  {
   "cell_type": "code",
   "execution_count": 3,
   "metadata": {
    "colab": {
     "base_uri": "https://localhost:8080/",
     "height": 450
    },
    "colab_type": "code",
    "executionInfo": {
     "elapsed": 116748,
     "status": "error",
     "timestamp": 1573684968470,
     "user": {
      "displayName": "Fernando Matsumoto",
      "photoUrl": "",
      "userId": "02497909482286168309"
     },
     "user_tz": 120
    },
    "id": "inuQshNZJL-s",
    "outputId": "14c5baad-7707-4cbf-e6bd-9a6a4ca2669d"
   },
   "outputs": [],
   "source": [
    "data = pd.read_csv('arquivospessoa_v2.csv')\n",
    "data.drop(['id', 'title', 'date', 'bib'], inplace=True, axis=1)\n",
    "data.reset_index(drop=True, inplace=True)"
   ]
  },
  {
   "cell_type": "markdown",
   "metadata": {},
   "source": [
    "Nesse passo, optamos por trabalhar com os autores com mais de 80 textos, pois menos que isso poderia ocasionar um sobreajuste. "
   ]
  },
  {
   "cell_type": "code",
   "execution_count": 4,
   "metadata": {
    "colab": {},
    "colab_type": "code",
    "id": "MrqnazFXJL-x"
   },
   "outputs": [],
   "source": [
    "# aqui selecionei os autores com mais de 80 textosr'[A-zÀ-úü](?<!^' + '|^'.join(stopwords.words('portuguese')) + ')'\n",
    "data = data.groupby('author').filter(lambda x : (x['author'].count()>=80).any())"
   ]
  },
  {
   "cell_type": "markdown",
   "metadata": {},
   "source": [
    "Além, disso percebemos que no corpus há muitos textos em inglês, para isso utilizamos a função **detect** da biblioteca *langdetect*. Isso eliminou certa de 625 textos."
   ]
  },
  {
   "cell_type": "code",
   "execution_count": 6,
   "metadata": {},
   "outputs": [
    {
     "name": "stdout",
     "output_type": "stream",
     "text": [
      "   level_0  index           author    tipo  \\\n",
      "0        0      0     Ricardo Reis  poesia   \n",
      "1        1      1  Fernando Pessoa   prosa   \n",
      "2        2      3     Ricardo Reis  poesia   \n",
      "3        3      5     Ricardo Reis  poesia   \n",
      "4        4      8     Ricardo Reis  poesia   \n",
      "\n",
      "                                                text  port  \n",
      "0  Diana através dos ramos\\nEspreita a vinda de E...  True  \n",
      "1  A REFORMA DO CALENDÁRIO E AS SUAS CONSEQUÊNCIA...  True  \n",
      "2  Aqui, sem outro Apolo do que Apolo,\\nSem um su...  True  \n",
      "3  Em Ceres anoitece.\\nNos píncaros ainda\\nFaz lu...  True  \n",
      "4  Não a ti, mas aos teus, odeio, Cristo.\\nTu não...  True  \n",
      "Fernando Pessoa     2326\n",
      "Bernardo Soares      503\n",
      "Álvaro de Campos     393\n",
      "Ricardo Reis         307\n",
      "Alberto Caeiro       127\n",
      "António Mora          95\n",
      "Name: author, dtype: int64\n"
     ]
    }
   ],
   "source": [
    "data['port'] = data['text'].apply(lambda x: detect(x) != 'en')\n",
    "data = data[data['port'] == True]\n",
    "data.reset_index(inplace = True)"
   ]
  },
  {
   "cell_type": "markdown",
   "metadata": {},
   "source": [
    "## Passo 2: Preprocessamento: stemmização, lemmatização etc. "
   ]
  },
  {
   "cell_type": "markdown",
   "metadata": {},
   "source": [
    "Ao analisar os textos, vimos que muitas palavras começavam com um travessão ou *underscore* indicador de diálogo. Para resolver tal problema, criamos a função **remove_undersocre**, que lidou bem com o problema. "
   ]
  },
  {
   "cell_type": "code",
   "execution_count": 12,
   "metadata": {},
   "outputs": [],
   "source": [
    "def remove_underscore(word):\n",
    "    if word[0] == '_' or word[-1] == '_':\n",
    "        return word.replace('_', '')\n",
    "    else:\n",
    "        return word"
   ]
  },
  {
   "cell_type": "markdown",
   "metadata": {},
   "source": [
    "   Também percebemos que palavras acentuados prejudicam o modelo de stemmização e de lemmatização, portanto optamos por remover todos os acentos. A função **remove_acento** talvez poderia ser mais simples, entretanto foi a solução encontrada. "
   ]
  },
  {
   "cell_type": "code",
   "execution_count": 13,
   "metadata": {},
   "outputs": [],
   "source": [
    "def remove_acento(text):\n",
    "    try:\n",
    "        text = unicode(text, 'utf-8')\n",
    "    except NameError:\n",
    "        pass\n",
    "    text = unicodedata.normalize('NFD', text)\\\n",
    "           .encode('ascii', 'ignore')\\\n",
    "           .decode(\"utf-8\")\n",
    "    return str(text)"
   ]
  },
  {
   "cell_type": "markdown",
   "metadata": {},
   "source": [
    "### Passo 2.1: stemmização utilizando SnowBall"
   ]
  },
  {
   "cell_type": "markdown",
   "metadata": {},
   "source": [
    "Aqui criamos as duas funções mais importantes do preprocessamento do texto. A primeira **raw__to_words_stem** recebe o texto não processado e o devolve com as palavras stemmizadas. Para isso utilizamos o algoritmo *Snowball* criado por Martin Porter. A biblioteca do NLTK conta com um stemmizador chamado **PortugueseStemmer** e é ele que utilizaremos. Além disso, usareamos o lista de *stopwords* em português que o NLTK fornece."
   ]
  },
  {
   "cell_type": "markdown",
   "metadata": {},
   "source": [
    "Nas duas funções também usamos *regex* para eliminarmos quaisquer caracteres que pudessem poluir o texto."
   ]
  },
  {
   "cell_type": "code",
   "execution_count": 14,
   "metadata": {
    "colab": {},
    "colab_type": "code",
    "id": "r4CPtoN-JL-1"
   },
   "outputs": [],
   "source": [
    "# aqui criei uma função que limpa os textos (remove stopwords, aplica stemming etc)\n",
    "def raw_to_words_stem(raw_text, stemming=True):\n",
    "    words = re.findall(r'\\b[A-zÀ-úü]+\\b', raw_text.lower())\n",
    "\n",
    "    stop = set(stopwords.words('portuguese'))\n",
    "    meaningful_words = [w for w in words if w not in stop]\n",
    "    \n",
    "    if stemming == True:\n",
    "        stemmer = PortugueseStemmer()\n",
    "        radical = []\n",
    "\n",
    "        for w in meaningful_words:\n",
    "            new_w = remove_underscore(remove_acento(w))\n",
    "            radical.append(stemmer.stem(new_w))\n",
    "        return(' '.join(radical))\n",
    "    \n",
    "    else:\n",
    "        return ' '.join(meaningful_words)"
   ]
  },
  {
   "cell_type": "markdown",
   "metadata": {},
   "source": [
    "### Passo 2.2: lemmatização utilizando spaCy"
   ]
  },
  {
   "cell_type": "markdown",
   "metadata": {},
   "source": [
    "A outra função criada foi a **raw_to_words_lemma**. Similar a função anterior, essa função recebe o texto não processado e devolve o devolve com os verbos lemmatizados. Para isso, utilizamos os modelos da biblioteca **spaCy**, a qual conta também com ferramentas de marcação de partes do discurso, utilizadas na função para separar os verbos a serem lemmatizados. "
   ]
  },
  {
   "cell_type": "code",
   "execution_count": 15,
   "metadata": {},
   "outputs": [],
   "source": [
    "nlp = spacy.load('pt')\n",
    "\n",
    "def raw_to_words_lemma(raw_text, lemmatization=True):\n",
    "    words = re.findall(r'\\b[A-zÀ-úü]+\\b', raw_text.lower())\n",
    "\n",
    "    stop = set(stopwords.words('portuguese'))\n",
    "    meaningful_words = [w for w in words if w not in stop]\n",
    "    \n",
    "    meaningful_words_string = ' '.join(meaningful_words)\n",
    "    meaningful_words_string = remove_underscore(remove_acento(meaningful_words_string))\n",
    "    \n",
    "    if lemmatization:\n",
    "        doc = nlp(meaningful_words_string)\n",
    "        doc_lemma = [token.lemma_ if token.pos_ == 'VERB' else str(token) for token in doc]\n",
    "        return(' '.join(doc_lemma))\n",
    "    \n",
    "    else:\n",
    "        return ' '.join(meaningful_words)"
   ]
  },
  {
   "cell_type": "markdown",
   "metadata": {},
   "source": [
    "Finalmente, aplicamos as duas funções ao corpus, gerando as colunas *stemmed_text*, *lemmatizated_text*, *unstemmed_text* e *l_s_text* (combinação de lemmatização e depois stemmização)."
   ]
  },
  {
   "cell_type": "code",
   "execution_count": 16,
   "metadata": {},
   "outputs": [],
   "source": [
    "data['stemmed_text'] = data.text.apply(raw_to_words_stem)\n",
    "data['lemmatizated_text'] = data.text.apply(raw_to_words_lemma)\n",
    "data['l_s_text'] = data.text.apply(lambda x: raw_to_words_stem(raw_to_words_lemma(x)))\n",
    "data['unstemmed_text'] = data.text.apply(lambda x: raw_to_words_stem(x, stemming = False))"
   ]
  },
  {
   "cell_type": "code",
   "execution_count": 17,
   "metadata": {
    "scrolled": false
   },
   "outputs": [
    {
     "data": {
      "text/html": [
       "<div>\n",
       "<style scoped>\n",
       "    .dataframe tbody tr th:only-of-type {\n",
       "        vertical-align: middle;\n",
       "    }\n",
       "\n",
       "    .dataframe tbody tr th {\n",
       "        vertical-align: top;\n",
       "    }\n",
       "\n",
       "    .dataframe thead th {\n",
       "        text-align: right;\n",
       "    }\n",
       "</style>\n",
       "<table border=\"1\" class=\"dataframe\">\n",
       "  <thead>\n",
       "    <tr style=\"text-align: right;\">\n",
       "      <th></th>\n",
       "      <th>level_0</th>\n",
       "      <th>index</th>\n",
       "      <th>author</th>\n",
       "      <th>tipo</th>\n",
       "      <th>text</th>\n",
       "      <th>port</th>\n",
       "      <th>stemmed_text</th>\n",
       "      <th>lemmatizated_text</th>\n",
       "      <th>l_s_text</th>\n",
       "      <th>unstemmed_text</th>\n",
       "    </tr>\n",
       "  </thead>\n",
       "  <tbody>\n",
       "    <tr>\n",
       "      <th>0</th>\n",
       "      <td>0</td>\n",
       "      <td>0</td>\n",
       "      <td>Ricardo Reis</td>\n",
       "      <td>poesia</td>\n",
       "      <td>Diana através dos ramos\\nEspreita a vinda de E...</td>\n",
       "      <td>True</td>\n",
       "      <td>dian atrav ram espreit vind endymion endymion ...</td>\n",
       "      <td>diana atraves ramos espreitar vir endymion end...</td>\n",
       "      <td>dian atrav ram espreit vir endymion endymion n...</td>\n",
       "      <td>diana através ramos espreita vinda endymion en...</td>\n",
       "    </tr>\n",
       "    <tr>\n",
       "      <th>1</th>\n",
       "      <td>1</td>\n",
       "      <td>1</td>\n",
       "      <td>Fernando Pessoa</td>\n",
       "      <td>prosa</td>\n",
       "      <td>A REFORMA DO CALENDÁRIO E AS SUAS CONSEQUÊNCIA...</td>\n",
       "      <td>True</td>\n",
       "      <td>reform calendari consequenc comerc comissa esp...</td>\n",
       "      <td>reforma calendario consequencias comerciais co...</td>\n",
       "      <td>reform calendari consequenc comerc comissa esp...</td>\n",
       "      <td>reforma calendário consequências comerciais co...</td>\n",
       "    </tr>\n",
       "    <tr>\n",
       "      <th>2</th>\n",
       "      <td>2</td>\n",
       "      <td>3</td>\n",
       "      <td>Ricardo Reis</td>\n",
       "      <td>poesia</td>\n",
       "      <td>Aqui, sem outro Apolo do que Apolo,\\nSem um su...</td>\n",
       "      <td>True</td>\n",
       "      <td>aqu outr apol apol suspir abandon crist febr b...</td>\n",
       "      <td>aqui outro apolo apolo suspiro abandonemos cri...</td>\n",
       "      <td>aqu outr apol apol suspir abandon crist febr b...</td>\n",
       "      <td>aqui outro apolo apolo suspiro abandonemos cri...</td>\n",
       "    </tr>\n",
       "    <tr>\n",
       "      <th>3</th>\n",
       "      <td>3</td>\n",
       "      <td>5</td>\n",
       "      <td>Ricardo Reis</td>\n",
       "      <td>poesia</td>\n",
       "      <td>Em Ceres anoitece.\\nNos píncaros ainda\\nFaz lu...</td>\n",
       "      <td>True</td>\n",
       "      <td>cer anoitec pincar aind faz luz sint tao grand...</td>\n",
       "      <td>ceres anoitecer pincaros ainda fazer luz sinto...</td>\n",
       "      <td>cer anoitec pincar aind faz luz sint tao grand...</td>\n",
       "      <td>ceres anoitece píncaros ainda faz luz sinto tã...</td>\n",
       "    </tr>\n",
       "    <tr>\n",
       "      <th>4</th>\n",
       "      <td>4</td>\n",
       "      <td>8</td>\n",
       "      <td>Ricardo Reis</td>\n",
       "      <td>poesia</td>\n",
       "      <td>Não a ti, mas aos teus, odeio, Cristo.\\nTu não...</td>\n",
       "      <td>True</td>\n",
       "      <td>ti odei crist es deus etern panteon presid vid...</td>\n",
       "      <td>ti odeio cristo es deus eterno panteon preside...</td>\n",
       "      <td>ti odei crist es deus etern panteon presid vid...</td>\n",
       "      <td>ti odeio cristo és deus eterno pantéon preside...</td>\n",
       "    </tr>\n",
       "  </tbody>\n",
       "</table>\n",
       "</div>"
      ],
      "text/plain": [
       "   level_0  index           author    tipo  \\\n",
       "0        0      0     Ricardo Reis  poesia   \n",
       "1        1      1  Fernando Pessoa   prosa   \n",
       "2        2      3     Ricardo Reis  poesia   \n",
       "3        3      5     Ricardo Reis  poesia   \n",
       "4        4      8     Ricardo Reis  poesia   \n",
       "\n",
       "                                                text  port  \\\n",
       "0  Diana através dos ramos\\nEspreita a vinda de E...  True   \n",
       "1  A REFORMA DO CALENDÁRIO E AS SUAS CONSEQUÊNCIA...  True   \n",
       "2  Aqui, sem outro Apolo do que Apolo,\\nSem um su...  True   \n",
       "3  Em Ceres anoitece.\\nNos píncaros ainda\\nFaz lu...  True   \n",
       "4  Não a ti, mas aos teus, odeio, Cristo.\\nTu não...  True   \n",
       "\n",
       "                                        stemmed_text  \\\n",
       "0  dian atrav ram espreit vind endymion endymion ...   \n",
       "1  reform calendari consequenc comerc comissa esp...   \n",
       "2  aqu outr apol apol suspir abandon crist febr b...   \n",
       "3  cer anoitec pincar aind faz luz sint tao grand...   \n",
       "4  ti odei crist es deus etern panteon presid vid...   \n",
       "\n",
       "                                   lemmatizated_text  \\\n",
       "0  diana atraves ramos espreitar vir endymion end...   \n",
       "1  reforma calendario consequencias comerciais co...   \n",
       "2  aqui outro apolo apolo suspiro abandonemos cri...   \n",
       "3  ceres anoitecer pincaros ainda fazer luz sinto...   \n",
       "4  ti odeio cristo es deus eterno panteon preside...   \n",
       "\n",
       "                                            l_s_text  \\\n",
       "0  dian atrav ram espreit vir endymion endymion n...   \n",
       "1  reform calendari consequenc comerc comissa esp...   \n",
       "2  aqu outr apol apol suspir abandon crist febr b...   \n",
       "3  cer anoitec pincar aind faz luz sint tao grand...   \n",
       "4  ti odei crist es deus etern panteon presid vid...   \n",
       "\n",
       "                                      unstemmed_text  \n",
       "0  diana através ramos espreita vinda endymion en...  \n",
       "1  reforma calendário consequências comerciais co...  \n",
       "2  aqui outro apolo apolo suspiro abandonemos cri...  \n",
       "3  ceres anoitece píncaros ainda faz luz sinto tã...  \n",
       "4  ti odeio cristo és deus eterno pantéon preside...  "
      ]
     },
     "execution_count": 17,
     "metadata": {},
     "output_type": "execute_result"
    }
   ],
   "source": [
    "data.head()"
   ]
  },
  {
   "cell_type": "markdown",
   "metadata": {},
   "source": [
    "## Passo 3: criação do modelo"
   ]
  },
  {
   "cell_type": "markdown",
   "metadata": {},
   "source": [
    "Para treinamento do modelo, optamos por utilizar os 4 heterônimos com mais texto (Bernardo Soares, Álvaro de Campos, Ricardo Reis e Alberto Caeiro). Os textos classificados como Fernando Pessoa serão utilizados para treina o modelo de *tf-idf*, mas não serão utilizados para treinar os modelos de classificaçã."
   ]
  },
  {
   "cell_type": "code",
   "execution_count": 18,
   "metadata": {},
   "outputs": [
    {
     "data": {
      "text/plain": [
       "Fernando Pessoa     2326\n",
       "Bernardo Soares      503\n",
       "Álvaro de Campos     393\n",
       "Ricardo Reis         307\n",
       "Alberto Caeiro       127\n",
       "António Mora          95\n",
       "Name: author, dtype: int64"
      ]
     },
     "execution_count": 18,
     "metadata": {},
     "output_type": "execute_result"
    }
   ],
   "source": [
    "data.author.value_counts()"
   ]
  },
  {
   "cell_type": "markdown",
   "metadata": {},
   "source": [
    "Criamos então o DataFrame **more_authors**, o qual contém os quatro heterônimos mais frequentes."
   ]
  },
  {
   "cell_type": "code",
   "execution_count": 19,
   "metadata": {},
   "outputs": [
    {
     "data": {
      "text/plain": [
       "Bernardo Soares     503\n",
       "Álvaro de Campos    393\n",
       "Ricardo Reis        307\n",
       "Alberto Caeiro      127\n",
       "Name: author, dtype: int64"
      ]
     },
     "execution_count": 19,
     "metadata": {},
     "output_type": "execute_result"
    }
   ],
   "source": [
    "more_authors_list = ['Bernardo Soares', 'Ricardo Reis', 'Álvaro de Campos', 'Alberto Caeiro']\n",
    "more_authors = data[data['author'].isin(more_authors_list)]\n",
    "more_authors.author.value_counts()"
   ]
  },
  {
   "cell_type": "markdown",
   "metadata": {},
   "source": [
    "### Passo 3.1: codificação dos autores"
   ]
  },
  {
   "cell_type": "markdown",
   "metadata": {},
   "source": [
    "Para podermos montar um modelo classificatório, precisamos lidar com a coluna categórica **[author]** do DataFrame. A função **LabelEncoder()** do **scikit-learn** é capaz de lidar com o problema. "
   ]
  },
  {
   "cell_type": "code",
   "execution_count": 20,
   "metadata": {},
   "outputs": [
    {
     "name": "stderr",
     "output_type": "stream",
     "text": [
      "C:\\ProgramData\\Anaconda3\\lib\\site-packages\\ipykernel_launcher.py:3: SettingWithCopyWarning: \n",
      "A value is trying to be set on a copy of a slice from a DataFrame.\n",
      "Try using .loc[row_indexer,col_indexer] = value instead\n",
      "\n",
      "See the caveats in the documentation: http://pandas.pydata.org/pandas-docs/stable/indexing.html#indexing-view-versus-copy\n",
      "  This is separate from the ipykernel package so we can avoid doing imports until\n"
     ]
    }
   ],
   "source": [
    "from sklearn.preprocessing import LabelEncoder\n",
    "le = LabelEncoder()\n",
    "more_authors['author_encoded'] = le.fit_transform(more_authors['author'])"
   ]
  },
  {
   "cell_type": "code",
   "execution_count": 21,
   "metadata": {},
   "outputs": [
    {
     "data": {
      "text/html": [
       "<div>\n",
       "<style scoped>\n",
       "    .dataframe tbody tr th:only-of-type {\n",
       "        vertical-align: middle;\n",
       "    }\n",
       "\n",
       "    .dataframe tbody tr th {\n",
       "        vertical-align: top;\n",
       "    }\n",
       "\n",
       "    .dataframe thead th {\n",
       "        text-align: right;\n",
       "    }\n",
       "</style>\n",
       "<table border=\"1\" class=\"dataframe\">\n",
       "  <thead>\n",
       "    <tr style=\"text-align: right;\">\n",
       "      <th></th>\n",
       "      <th>level_0</th>\n",
       "      <th>index</th>\n",
       "      <th>author</th>\n",
       "      <th>tipo</th>\n",
       "      <th>text</th>\n",
       "      <th>port</th>\n",
       "      <th>stemmed_text</th>\n",
       "      <th>lemmatizated_text</th>\n",
       "      <th>l_s_text</th>\n",
       "      <th>unstemmed_text</th>\n",
       "      <th>author_encoded</th>\n",
       "    </tr>\n",
       "  </thead>\n",
       "  <tbody>\n",
       "    <tr>\n",
       "      <th>0</th>\n",
       "      <td>0</td>\n",
       "      <td>0</td>\n",
       "      <td>Ricardo Reis</td>\n",
       "      <td>poesia</td>\n",
       "      <td>Diana através dos ramos\\nEspreita a vinda de E...</td>\n",
       "      <td>True</td>\n",
       "      <td>dian atrav ram espreit vind endymion endymion ...</td>\n",
       "      <td>diana atraves ramos espreitar vir endymion end...</td>\n",
       "      <td>dian atrav ram espreit vir endymion endymion n...</td>\n",
       "      <td>diana através ramos espreita vinda endymion en...</td>\n",
       "      <td>2</td>\n",
       "    </tr>\n",
       "    <tr>\n",
       "      <th>2</th>\n",
       "      <td>2</td>\n",
       "      <td>3</td>\n",
       "      <td>Ricardo Reis</td>\n",
       "      <td>poesia</td>\n",
       "      <td>Aqui, sem outro Apolo do que Apolo,\\nSem um su...</td>\n",
       "      <td>True</td>\n",
       "      <td>aqu outr apol apol suspir abandon crist febr b...</td>\n",
       "      <td>aqui outro apolo apolo suspiro abandonemos cri...</td>\n",
       "      <td>aqu outr apol apol suspir abandon crist febr b...</td>\n",
       "      <td>aqui outro apolo apolo suspiro abandonemos cri...</td>\n",
       "      <td>2</td>\n",
       "    </tr>\n",
       "    <tr>\n",
       "      <th>3</th>\n",
       "      <td>3</td>\n",
       "      <td>5</td>\n",
       "      <td>Ricardo Reis</td>\n",
       "      <td>poesia</td>\n",
       "      <td>Em Ceres anoitece.\\nNos píncaros ainda\\nFaz lu...</td>\n",
       "      <td>True</td>\n",
       "      <td>cer anoitec pincar aind faz luz sint tao grand...</td>\n",
       "      <td>ceres anoitecer pincaros ainda fazer luz sinto...</td>\n",
       "      <td>cer anoitec pincar aind faz luz sint tao grand...</td>\n",
       "      <td>ceres anoitece píncaros ainda faz luz sinto tã...</td>\n",
       "      <td>2</td>\n",
       "    </tr>\n",
       "    <tr>\n",
       "      <th>4</th>\n",
       "      <td>4</td>\n",
       "      <td>8</td>\n",
       "      <td>Ricardo Reis</td>\n",
       "      <td>poesia</td>\n",
       "      <td>Não a ti, mas aos teus, odeio, Cristo.\\nTu não...</td>\n",
       "      <td>True</td>\n",
       "      <td>ti odei crist es deus etern panteon presid vid...</td>\n",
       "      <td>ti odeio cristo es deus eterno panteon preside...</td>\n",
       "      <td>ti odei crist es deus etern panteon presid vid...</td>\n",
       "      <td>ti odeio cristo és deus eterno pantéon preside...</td>\n",
       "      <td>2</td>\n",
       "    </tr>\n",
       "    <tr>\n",
       "      <th>6</th>\n",
       "      <td>6</td>\n",
       "      <td>10</td>\n",
       "      <td>Bernardo Soares</td>\n",
       "      <td>prosa</td>\n",
       "      <td>— A única vantagem de estudar é gozar o quanto...</td>\n",
       "      <td>True</td>\n",
       "      <td>unic vantag estud goz quant outr diss arte iso...</td>\n",
       "      <td>unica vantagem estudar gozar quanto outros diz...</td>\n",
       "      <td>unic vantag estud goz quant outr diz arte isol...</td>\n",
       "      <td>única vantagem estudar gozar quanto outros dis...</td>\n",
       "      <td>1</td>\n",
       "    </tr>\n",
       "  </tbody>\n",
       "</table>\n",
       "</div>"
      ],
      "text/plain": [
       "   level_0  index           author    tipo  \\\n",
       "0        0      0     Ricardo Reis  poesia   \n",
       "2        2      3     Ricardo Reis  poesia   \n",
       "3        3      5     Ricardo Reis  poesia   \n",
       "4        4      8     Ricardo Reis  poesia   \n",
       "6        6     10  Bernardo Soares   prosa   \n",
       "\n",
       "                                                text  port  \\\n",
       "0  Diana através dos ramos\\nEspreita a vinda de E...  True   \n",
       "2  Aqui, sem outro Apolo do que Apolo,\\nSem um su...  True   \n",
       "3  Em Ceres anoitece.\\nNos píncaros ainda\\nFaz lu...  True   \n",
       "4  Não a ti, mas aos teus, odeio, Cristo.\\nTu não...  True   \n",
       "6  — A única vantagem de estudar é gozar o quanto...  True   \n",
       "\n",
       "                                        stemmed_text  \\\n",
       "0  dian atrav ram espreit vind endymion endymion ...   \n",
       "2  aqu outr apol apol suspir abandon crist febr b...   \n",
       "3  cer anoitec pincar aind faz luz sint tao grand...   \n",
       "4  ti odei crist es deus etern panteon presid vid...   \n",
       "6  unic vantag estud goz quant outr diss arte iso...   \n",
       "\n",
       "                                   lemmatizated_text  \\\n",
       "0  diana atraves ramos espreitar vir endymion end...   \n",
       "2  aqui outro apolo apolo suspiro abandonemos cri...   \n",
       "3  ceres anoitecer pincaros ainda fazer luz sinto...   \n",
       "4  ti odeio cristo es deus eterno panteon preside...   \n",
       "6  unica vantagem estudar gozar quanto outros diz...   \n",
       "\n",
       "                                            l_s_text  \\\n",
       "0  dian atrav ram espreit vir endymion endymion n...   \n",
       "2  aqu outr apol apol suspir abandon crist febr b...   \n",
       "3  cer anoitec pincar aind faz luz sint tao grand...   \n",
       "4  ti odei crist es deus etern panteon presid vid...   \n",
       "6  unic vantag estud goz quant outr diz arte isol...   \n",
       "\n",
       "                                      unstemmed_text  author_encoded  \n",
       "0  diana através ramos espreita vinda endymion en...               2  \n",
       "2  aqui outro apolo apolo suspiro abandonemos cri...               2  \n",
       "3  ceres anoitece píncaros ainda faz luz sinto tã...               2  \n",
       "4  ti odeio cristo és deus eterno pantéon preside...               2  \n",
       "6  única vantagem estudar gozar quanto outros dis...               1  "
      ]
     },
     "execution_count": 21,
     "metadata": {},
     "output_type": "execute_result"
    }
   ],
   "source": [
    "more_authors.head()"
   ]
  },
  {
   "cell_type": "markdown",
   "metadata": {},
   "source": [
    "### Passo 3.2: divisão do DataFrame em treino e teste"
   ]
  },
  {
   "cell_type": "markdown",
   "metadata": {},
   "source": [
    "Para essa tarefa, utilizamos **train_test_split**, com o DataFrame de teste contendo 10% do conteúdo do DataFrame original."
   ]
  },
  {
   "cell_type": "code",
   "execution_count": 31,
   "metadata": {},
   "outputs": [],
   "source": [
    "from sklearn.model_selection import train_test_split\n",
    "train_X, test_X, train_Y, test_Y = train_test_split(more_authors[['text', 'stemmed_text', 'unstemmed_text', 'l_s_text', 'lemmatizated_text']], more_authors['author_encoded'], test_size = 0.1, random_state = 42)"
   ]
  },
  {
   "cell_type": "markdown",
   "metadata": {},
   "source": [
    "### Passo 3.3: criação do tf-idf"
   ]
  },
  {
   "cell_type": "markdown",
   "metadata": {},
   "source": [
    "Para criação do vetor do *tf-idf* utilizamos o texto lemmatizado e depois stemmizados de **todos** autores. Depois aplicamos a transformação aprendida em todo o corpus nos DataFrames de teste e treino."
   ]
  },
  {
   "cell_type": "code",
   "execution_count": 28,
   "metadata": {},
   "outputs": [],
   "source": [
    "from sklearn.feature_extraction.text import TfidfVectorizer\n",
    "from sklearn.cluster import KMeans\n",
    "from sklearn.metrics import adjusted_rand_score\n",
    "\n",
    "tfidf_vector = TfidfVectorizer()\n",
    "tfidf_vector.fit(data['l_s_text'])\n",
    "\n",
    "train_X_tfidf = tfidf_vector.transform(train_X['l_s_text'])\n",
    "test_X_tfidf = tfidf_vector.transform(test_X['l_s_text'])\n",
    "\n",
    "more_authors_tfidf = tfidf_vector.transform(more_authors['l_s_text'])\n",
    "\n"
   ]
  },
  {
   "cell_type": "markdown",
   "metadata": {},
   "source": [
    "### Passo 3.4: aplicando modelos"
   ]
  },
  {
   "cell_type": "markdown",
   "metadata": {},
   "source": [
    "Nesse notebook, optamos por utilizar dois modelos clássicos para classificação de texto utilizando *tf-idf*: *Gaussian Naive Bayes* e *Support Vector Machine*. Uma explicação detalhada dos modelos pode ser encontrada na nossa página do Medium https://medium.com/turing-talks."
   ]
  },
  {
   "cell_type": "markdown",
   "metadata": {},
   "source": [
    "#### 3.4.1 GaussianNaiveBayes"
   ]
  },
  {
   "cell_type": "code",
   "execution_count": 35,
   "metadata": {},
   "outputs": [
    {
     "name": "stdout",
     "output_type": "stream",
     "text": [
      "Acurácia do NaiveBayes ->  61.65413533834586\n"
     ]
    }
   ],
   "source": [
    "from sklearn import model_selection, naive_bayes, svm\n",
    "from sklearn.metrics import accuracy_score\n",
    "\n",
    "Naive = naive_bayes.GaussianNB()\n",
    "\n",
    "Naive.fit(train_X_tfidf.toarray(), train_Y)\n",
    "\n",
    "predictions_NB = Naive.predict(test_X_tfidf.toarray())\n",
    "\n",
    "print(\"Acurácia do NaiveBayes -> \",accuracy_score(predictions_NB, test_Y)*100)"
   ]
  },
  {
   "cell_type": "markdown",
   "metadata": {},
   "source": [
    "#### 3.4.2 Support Vector Machine"
   ]
  },
  {
   "cell_type": "code",
   "execution_count": 36,
   "metadata": {},
   "outputs": [
    {
     "name": "stdout",
     "output_type": "stream",
     "text": [
      "Acurácia da SVM ->  84.21052631578947\n"
     ]
    }
   ],
   "source": [
    "SVM = svm.SVC(C=1.0, kernel='linear', degree=3, gamma='auto')\n",
    "SVM.fit(train_X_tfidf, train_Y)\n",
    "predictions_SVM = SVM.predict(test_X_tfidf)\n",
    "\n",
    "print(\"Acurácia da SVM -> \",accuracy_score(predictions_SVM, test_Y)*100)"
   ]
  },
  {
   "cell_type": "markdown",
   "metadata": {},
   "source": [
    "A SVM obteve resultados muito mais satisfatórios. Além disso, durante os testes, a utilização da coluna *l_s_text* aumentou em certa de 8% a acurácia do modelo e por isso ela foi a escolhida para ser utilizada."
   ]
  },
  {
   "cell_type": "markdown",
   "metadata": {},
   "source": [
    "## Passo 4: visualizando os vetores do tf-idf utilizando redução de dimensionalidade"
   ]
  },
  {
   "cell_type": "markdown",
   "metadata": {},
   "source": [
    "Afim de obtermos uma visualização do *tf-idf*, aplicamos a transformação individualmente para cada autor e então reduzimos o vetor a duas dimensões utilizando o algortimo **PCA**. A utilização de algoritmos mais complexos também se mostrou viável, mas optamos por não colocar suas aplicações nesse notebook."
   ]
  },
  {
   "cell_type": "markdown",
   "metadata": {},
   "source": [
    "### Passo 4.1: aplicando *tf-idf* para cada heterônimo "
   ]
  },
  {
   "cell_type": "code",
   "execution_count": 33,
   "metadata": {},
   "outputs": [],
   "source": [
    "bernardo = more_authors[more_authors.author == 'Bernardo Soares']\n",
    "ricardo = more_authors[more_authors.author == 'Ricardo Reis']\n",
    "campos = more_authors[more_authors.author == 'Álvaro de Campos']\n",
    "alberto = more_authors[more_authors.author == 'Alberto Caeiro']\n",
    "\n",
    "bernardo_tfidf = tfidf_vector.transform(bernardo.stemmed_text)\n",
    "ricardo_tfidf = tfidf_vector.transform(ricardo.stemmed_text)\n",
    "campos_tfidf = tfidf_vector.transform(campos.stemmed_text)\n",
    "alberto_tfidf = tfidf_vector.transform(alberto.stemmed_text)"
   ]
  },
  {
   "cell_type": "markdown",
   "metadata": {},
   "source": [
    "### Passo 4.2: aplicando PCA nos vetores do *tf-idf* e então utilizando matplotlib para visualizar os resultados"
   ]
  },
  {
   "cell_type": "markdown",
   "metadata": {},
   "source": [
    "Nesse passo, utlizamos uma simples transformação para duas dimensões e então plotamos o PCA em um scatter do matplotlib."
   ]
  },
  {
   "cell_type": "code",
   "execution_count": 39,
   "metadata": {},
   "outputs": [
    {
     "data": {
      "image/png": "[encoded data removed]",
      "text/plain": [
       "<Figure size 432x288 with 1 Axes>"
      ]
     },
     "metadata": {
      "needs_background": "light"
     },
     "output_type": "display_data"
    },
    {
     "data": {
      "image/png": "[encoded data removed]",
      "text/plain": [
       "<Figure size 432x288 with 1 Axes>"
      ]
     },
     "metadata": {
      "needs_background": "light"
     },
     "output_type": "display_data"
    },
    {
     "data": {
      "image/png": "[encoded data removed]",
      "text/plain": [
       "<Figure size 432x288 with 1 Axes>"
      ]
     },
     "metadata": {
      "needs_background": "light"
     },
     "output_type": "display_data"
    },
    {
     "data": {
      "image/png": "[encoded data removed]",
      "text/plain": [
       "<Figure size 432x288 with 1 Axes>"
      ]
     },
     "metadata": {
      "needs_background": "light"
     },
     "output_type": "display_data"
    }
   ],
   "source": [
    "pca = PCA(n_components = 2).fit(bernardo_tfidf.todense())\n",
    "data2D = pca.transform(bernardo_tfidf.todense())\n",
    "\n",
    "plt.scatter(data2D[:, 0], data2D[:, 1], c = 'red', alpha = 0.5)\n",
    "plt.title('Bernardo Soares')\n",
    "plt.show()\n",
    "\n",
    "pca = PCA(n_components = 2).fit(alberto_tfidf.todense())\n",
    "data2D = pca.transform(alberto_tfidf.todense())\n",
    "\n",
    "plt.scatter(data2D[:, 0], data2D[:, 1], c = alberto.author_encoded, alpha = 0.5)\n",
    "plt.title('Alberto Caeiro')\n",
    "plt.show()\n",
    "\n",
    "pca = PCA(n_components = 2).fit(ricardo_tfidf.todense())\n",
    "data2D = pca.transform(ricardo_tfidf.todense())\n",
    "\n",
    "plt.scatter(data2D[:, 0], data2D[:, 1], c = 'b', alpha = 0.5)\n",
    "plt.title('Ricardo Reis')\n",
    "plt.show()\n",
    "\n",
    "pca = PCA(n_components = 2).fit(campos_tfidf.todense())\n",
    "data2D = pca.transform(campos_tfidf.todense())\n",
    "\n",
    "plt.scatter(data2D[:, 0], data2D[:, 1], c = 'g', alpha = 0.5)\n",
    "plt.title('Álvaro de Campos')\n",
    "plt.show()"
   ]
  }
 ],
 "metadata": {
  "colab": {
   "collapsed_sections": [],
   "name": "pessoa.ipynb",
   "provenance": []
  },
  "kernelspec": {
   "display_name": "Python 3",
   "language": "python",
   "name": "python3"
  },
  "language_info": {
   "codemirror_mode": {
    "name": "ipython",
    "version": 3
   },
   "file_extension": ".py",
   "mimetype": "text/x-python",
   "name": "python",
   "nbconvert_exporter": "python",
   "pygments_lexer": "ipython3",
   "version": "3.7.3"
  }
 },
 "nbformat": 4,
 "nbformat_minor": 1
}
