{
 "cells": [
  {
   "cell_type": "markdown",
   "metadata": {},
   "source": [
    "# Classificador de poemas do Fernando Pessoa\n",
    "## Grupo Turing - NLP"
   ]
  },
  {
   "cell_type": "markdown",
   "metadata": {},
   "source": [
    "## Passo 0: importando as bibliotecas"
   ]
  },
  {
   "cell_type": "code",
   "execution_count": 1,
   "metadata": {
    "colab": {
     "base_uri": "https://localhost:8080/",
     "height": 71
    },
    "colab_type": "code",
    "executionInfo": {
     "elapsed": 1192,
     "status": "ok",
     "timestamp": 1573684847920,
     "user": {
      "displayName": "Fernando Matsumoto",
      "photoUrl": "",
      "userId": "02497909482286168309"
     },
     "user_tz": 120
    },
    "id": "huhOdj9WJL-k",
    "outputId": "eed756fd-c641-4aae-da86-6bb723067c82"
   },
   "outputs": [],
   "source": [
    "import re\n",
    "import unicodedata\n",
    "\n",
    "import pandas as pd\n",
    "import matplotlib.pyplot as plt\n",
    "\n",
    "from sklearn.naive_bayes import GaussianNB\n",
    "from sklearn.decomposition import PCA\n",
    "from sklearn.feature_extraction.text import TfidfVectorizer\n",
    "from sklearn.metrics import accuracy_score\n",
    "from sklearn.model_selection import train_test_split\n",
    "from sklearn.preprocessing import LabelEncoder\n",
    "from sklearn.svm import SVC\n",
    "\n",
    "import nltk\n",
    "from nltk.corpus import stopwords\n",
    "from nltk.stem.snowball import PortugueseStemmer\n",
    "from langdetect import detect, DetectorFactory\n",
    "import spacy"
   ]
  },
  {
   "cell_type": "code",
   "execution_count": 2,
   "metadata": {},
   "outputs": [
    {
     "name": "stderr",
     "output_type": "stream",
     "text": [
      "[nltk_data] Downloading package stopwords to\n",
      "[nltk_data]     /home/fernando/nltk_data...\n",
      "[nltk_data]   Package stopwords is already up-to-date!\n"
     ]
    }
   ],
   "source": [
    "nltk.download('stopwords')\n",
    "DetectorFactory.seed = 42"
   ]
  },
  {
   "cell_type": "markdown",
   "metadata": {},
   "source": [
    "## Passo 1: carregar o dataset e filtrar por autores mais frequentes"
   ]
  },
  {
   "cell_type": "code",
   "execution_count": 3,
   "metadata": {
    "colab": {
     "base_uri": "https://localhost:8080/",
     "height": 450
    },
    "colab_type": "code",
    "executionInfo": {
     "elapsed": 116748,
     "status": "error",
     "timestamp": 1573684968470,
     "user": {
      "displayName": "Fernando Matsumoto",
      "photoUrl": "",
      "userId": "02497909482286168309"
     },
     "user_tz": 120
    },
    "id": "inuQshNZJL-s",
    "outputId": "14c5baad-7707-4cbf-e6bd-9a6a4ca2669d"
   },
   "outputs": [],
   "source": [
    "dados = pd.read_csv('fernando_pessoa.csv')\n",
    "dados.drop(['id', 'titulo', 'data', 'bibliografia'], inplace=True, axis=1)\n",
    "dados.reset_index(drop=True, inplace=True)"
   ]
  },
  {
   "cell_type": "markdown",
   "metadata": {},
   "source": [
    "Nesse passo, optamos por trabalhar com os autores com mais de 80 textos, pois menos que isso poderia ocasionar um sobreajuste. "
   ]
  },
  {
   "cell_type": "code",
   "execution_count": 4,
   "metadata": {
    "colab": {},
    "colab_type": "code",
    "id": "MrqnazFXJL-x"
   },
   "outputs": [],
   "source": [
    "dados = dados.groupby('autor').filter(lambda x : (x['autor'].count()>=80).any())"
   ]
  },
  {
   "cell_type": "markdown",
   "metadata": {},
   "source": [
    "Além disso, percebemos que no corpus há muitos textos em inglês, para isso utilizamos a função **detect** da biblioteca *langdetect*. Isso eliminou certa de 625 textos."
   ]
  },
  {
   "cell_type": "code",
   "execution_count": 5,
   "metadata": {},
   "outputs": [],
   "source": [
    "dados['port'] = dados['texto'].apply(lambda x: detect(x) != 'en')\n",
    "dados = dados[dados['port'] == True]\n",
    "dados.reset_index(inplace = True)"
   ]
  },
  {
   "cell_type": "markdown",
   "metadata": {},
   "source": [
    "## Passo 2: Preprocessamento: stemização, lematização, etc. "
   ]
  },
  {
   "cell_type": "markdown",
   "metadata": {},
   "source": [
    "Ao analisar os textos, vimos que muitas palavras começavam com um travessão ou *underscore* indicador de diálogo. Para resolver tal problema, criamos a função `remover_underscore`, que lidou bem com o problema. "
   ]
  },
  {
   "cell_type": "code",
   "execution_count": 6,
   "metadata": {},
   "outputs": [],
   "source": [
    "def remover_underscore(palavra):\n",
    "    if palavra[0] == '_' or palavra[-1] == '_':\n",
    "        return palavra.replace('_', '')\n",
    "    else:\n",
    "        return palavra"
   ]
  },
  {
   "cell_type": "markdown",
   "metadata": {},
   "source": [
    "Também percebemos que palavras acentuados prejudicam o modelo de stemização e de lematização, portanto optamos por remover todos os acentos. A função `remover_acento` talvez poderia ser mais simples, entretanto foi a solução encontrada. "
   ]
  },
  {
   "cell_type": "code",
   "execution_count": 7,
   "metadata": {},
   "outputs": [],
   "source": [
    "def remover_acento(texto):\n",
    "    try:\n",
    "        texto = unicode(texto, 'utf-8')\n",
    "    except NameError:\n",
    "        pass\n",
    "    texto = unicodedata.normalize('NFD', texto)\\\n",
    "           .encode('ascii', 'ignore')\\\n",
    "           .decode(\"utf-8\")\n",
    "    return str(texto)"
   ]
  },
  {
   "cell_type": "markdown",
   "metadata": {},
   "source": [
    "Por último, tanto na stemização, quanto na lematização, foi importante remover _stopwords_ do texto. Para isso, usaremos a lista de stopwords em português que o NLTK fornece. Além disso, também usamos expressões regulares (*regex*) para eliminar quaisquer caracteres que pudessem poluir o texto."
   ]
  },
  {
   "cell_type": "code",
   "execution_count": 8,
   "metadata": {},
   "outputs": [],
   "source": [
    "stopwords_pt = set(stopwords.words('portuguese'))\n",
    "\n",
    "def remover_stopwords(texto, lista=False):\n",
    "    palavras = re.findall(r'\\b[A-zÀ-úü]+\\b', texto.lower())\n",
    "    sem_stopwords = [p for p in palavras if p not in stopwords_pt]\n",
    "    if lista:\n",
    "        return sem_stopwords\n",
    "    else:\n",
    "        return ' '.join(sem_stopwords)"
   ]
  },
  {
   "cell_type": "markdown",
   "metadata": {},
   "source": [
    "### Passo 2.1: stemização utilizando SnowBall"
   ]
  },
  {
   "cell_type": "markdown",
   "metadata": {},
   "source": [
    "Aqui criamos as duas funções mais importantes do preprocessamento do texto. A primeira, `stemizar`, recebe o texto não processado e o devolve com as palavras stemizadas e sem stopwords. Para isso, utilizamos o algoritmo *Snowball* criado por Martin Porter. A biblioteca do NLTK conta com um stemizador chamado `PortugueseStemmer` e é ele que utilizaremos."
   ]
  },
  {
   "cell_type": "code",
   "execution_count": 9,
   "metadata": {
    "colab": {},
    "colab_type": "code",
    "id": "r4CPtoN-JL-1"
   },
   "outputs": [],
   "source": [
    "def stemizar(texto_original):\n",
    "    palavras_importantes = remover_stopwords(texto_original, lista=True)\n",
    "    \n",
    "    stemizador = PortugueseStemmer()\n",
    "    palavras = []\n",
    "\n",
    "    for p in palavras_importantes:\n",
    "        novo_p = remover_underscore(remover_acento(p))\n",
    "        palavras.append(stemizador.stem(novo_p))\n",
    "    return ' '.join(palavras)"
   ]
  },
  {
   "cell_type": "markdown",
   "metadata": {},
   "source": [
    "### Passo 2.2: lematização utilizando spaCy"
   ]
  },
  {
   "cell_type": "markdown",
   "metadata": {},
   "source": [
    "A outra função criada foi a `lematizar`. Similar à função anterior, essa função recebe o texto não processado e o devolve com os verbos lematizados. Para isso, utilizamos os modelos da biblioteca **spaCy**, a qual conta também com ferramentas de marcação de partes do discurso, utilizadas na função para separar os verbos a serem lematizados. "
   ]
  },
  {
   "cell_type": "code",
   "execution_count": 10,
   "metadata": {},
   "outputs": [],
   "source": [
    "nlp = spacy.load('pt_core_news_sm')\n",
    "\n",
    "def lematizar(texto_original):\n",
    "    palavras_importantes = remover_stopwords(texto_original, lista=True)\n",
    "    \n",
    "    texto_importante = ' '.join(palavras_importantes)\n",
    "    texto_importante = remover_underscore(remover_acento(texto_importante))\n",
    "    \n",
    "    doc = nlp(texto_importante)\n",
    "    doc_lematizado = [token.lemma_ if token.pos_ == 'VERB' else str(token) for token in doc]\n",
    "    return ' '.join(doc_lematizado)"
   ]
  },
  {
   "cell_type": "markdown",
   "metadata": {},
   "source": [
    "Finalmente, aplicamos as duas funções ao corpus, gerando as colunas *texto_stemizado*, *texto_lematizado*, *texto_sem_stopwords* e *texto_l_s* (combinação de lematização e stemização)."
   ]
  },
  {
   "cell_type": "code",
   "execution_count": 11,
   "metadata": {},
   "outputs": [],
   "source": [
    "dados['texto_stemizado'] = dados.texto.apply(stemizar)\n",
    "dados['texto_lematizado'] = dados.texto.apply(lematizar)\n",
    "dados['texto_l_s'] = dados.texto.apply(lambda x: stemizar(lematizar(x)))\n",
    "dados['texto_sem_stopwords'] = dados.texto.apply(remover_stopwords)"
   ]
  },
  {
   "cell_type": "code",
   "execution_count": 12,
   "metadata": {},
   "outputs": [
    {
     "data": {
      "text/html": [
       "<div>\n",
       "<style scoped>\n",
       "    .dataframe tbody tr th:only-of-type {\n",
       "        vertical-align: middle;\n",
       "    }\n",
       "\n",
       "    .dataframe tbody tr th {\n",
       "        vertical-align: top;\n",
       "    }\n",
       "\n",
       "    .dataframe thead th {\n",
       "        text-align: right;\n",
       "    }\n",
       "</style>\n",
       "<table border=\"1\" class=\"dataframe\">\n",
       "  <thead>\n",
       "    <tr style=\"text-align: right;\">\n",
       "      <th></th>\n",
       "      <th>index</th>\n",
       "      <th>autor</th>\n",
       "      <th>tipo</th>\n",
       "      <th>texto</th>\n",
       "      <th>port</th>\n",
       "      <th>texto_stemizado</th>\n",
       "      <th>texto_lematizado</th>\n",
       "      <th>texto_l_s</th>\n",
       "      <th>texto_sem_stopwords</th>\n",
       "    </tr>\n",
       "  </thead>\n",
       "  <tbody>\n",
       "    <tr>\n",
       "      <th>0</th>\n",
       "      <td>0</td>\n",
       "      <td>Ricardo Reis</td>\n",
       "      <td>poesia</td>\n",
       "      <td>Diana através dos ramos\\nEspreita a vinda de E...</td>\n",
       "      <td>True</td>\n",
       "      <td>dian atrav ram espreit vind endymion endymion ...</td>\n",
       "      <td>diana atraves ramos espreitar vir endymion end...</td>\n",
       "      <td>dian atrav ram espreit vir endymion endymion n...</td>\n",
       "      <td>diana através ramos espreita vinda endymion en...</td>\n",
       "    </tr>\n",
       "    <tr>\n",
       "      <th>1</th>\n",
       "      <td>1</td>\n",
       "      <td>Fernando Pessoa</td>\n",
       "      <td>prosa</td>\n",
       "      <td>A REFORMA DO CALENDÁRIO E AS SUAS CONSEQUÊNCIA...</td>\n",
       "      <td>True</td>\n",
       "      <td>reform calendari consequenc comerc comissa esp...</td>\n",
       "      <td>reforma calendario consequencias comerciais co...</td>\n",
       "      <td>reform calendari consequenc comerc comissa esp...</td>\n",
       "      <td>reforma calendário consequências comerciais co...</td>\n",
       "    </tr>\n",
       "    <tr>\n",
       "      <th>2</th>\n",
       "      <td>3</td>\n",
       "      <td>Ricardo Reis</td>\n",
       "      <td>poesia</td>\n",
       "      <td>Aqui, sem outro Apolo do que Apolo,\\nSem um su...</td>\n",
       "      <td>True</td>\n",
       "      <td>aqu outr apol apol suspir abandon crist febr b...</td>\n",
       "      <td>aqui outro apolo apolo suspiro abandonemos cri...</td>\n",
       "      <td>aqu outr apol apol suspir abandon crist febr b...</td>\n",
       "      <td>aqui outro apolo apolo suspiro abandonemos cri...</td>\n",
       "    </tr>\n",
       "    <tr>\n",
       "      <th>3</th>\n",
       "      <td>5</td>\n",
       "      <td>Ricardo Reis</td>\n",
       "      <td>poesia</td>\n",
       "      <td>Em Ceres anoitece.\\nNos píncaros ainda\\nFaz lu...</td>\n",
       "      <td>True</td>\n",
       "      <td>cer anoitec pincar aind faz luz sint tao grand...</td>\n",
       "      <td>ceres anoitecer pincaros ainda fazer luz sinto...</td>\n",
       "      <td>cer anoitec pincar aind faz luz sint tao grand...</td>\n",
       "      <td>ceres anoitece píncaros ainda faz luz sinto tã...</td>\n",
       "    </tr>\n",
       "    <tr>\n",
       "      <th>4</th>\n",
       "      <td>8</td>\n",
       "      <td>Ricardo Reis</td>\n",
       "      <td>poesia</td>\n",
       "      <td>Não a ti, mas aos teus, odeio, Cristo.\\nTu não...</td>\n",
       "      <td>True</td>\n",
       "      <td>ti odei crist es deus etern panteon presid vid...</td>\n",
       "      <td>ti odeio cristo es deus eterno panteon preside...</td>\n",
       "      <td>ti odei crist es deus etern panteon presid vid...</td>\n",
       "      <td>ti odeio cristo és deus eterno pantéon preside...</td>\n",
       "    </tr>\n",
       "  </tbody>\n",
       "</table>\n",
       "</div>"
      ],
      "text/plain": [
       "   index            autor    tipo  \\\n",
       "0      0     Ricardo Reis  poesia   \n",
       "1      1  Fernando Pessoa   prosa   \n",
       "2      3     Ricardo Reis  poesia   \n",
       "3      5     Ricardo Reis  poesia   \n",
       "4      8     Ricardo Reis  poesia   \n",
       "\n",
       "                                               texto  port  \\\n",
       "0  Diana através dos ramos\\nEspreita a vinda de E...  True   \n",
       "1  A REFORMA DO CALENDÁRIO E AS SUAS CONSEQUÊNCIA...  True   \n",
       "2  Aqui, sem outro Apolo do que Apolo,\\nSem um su...  True   \n",
       "3  Em Ceres anoitece.\\nNos píncaros ainda\\nFaz lu...  True   \n",
       "4  Não a ti, mas aos teus, odeio, Cristo.\\nTu não...  True   \n",
       "\n",
       "                                     texto_stemizado  \\\n",
       "0  dian atrav ram espreit vind endymion endymion ...   \n",
       "1  reform calendari consequenc comerc comissa esp...   \n",
       "2  aqu outr apol apol suspir abandon crist febr b...   \n",
       "3  cer anoitec pincar aind faz luz sint tao grand...   \n",
       "4  ti odei crist es deus etern panteon presid vid...   \n",
       "\n",
       "                                    texto_lematizado  \\\n",
       "0  diana atraves ramos espreitar vir endymion end...   \n",
       "1  reforma calendario consequencias comerciais co...   \n",
       "2  aqui outro apolo apolo suspiro abandonemos cri...   \n",
       "3  ceres anoitecer pincaros ainda fazer luz sinto...   \n",
       "4  ti odeio cristo es deus eterno panteon preside...   \n",
       "\n",
       "                                           texto_l_s  \\\n",
       "0  dian atrav ram espreit vir endymion endymion n...   \n",
       "1  reform calendari consequenc comerc comissa esp...   \n",
       "2  aqu outr apol apol suspir abandon crist febr b...   \n",
       "3  cer anoitec pincar aind faz luz sint tao grand...   \n",
       "4  ti odei crist es deus etern panteon presid vid...   \n",
       "\n",
       "                                 texto_sem_stopwords  \n",
       "0  diana através ramos espreita vinda endymion en...  \n",
       "1  reforma calendário consequências comerciais co...  \n",
       "2  aqui outro apolo apolo suspiro abandonemos cri...  \n",
       "3  ceres anoitece píncaros ainda faz luz sinto tã...  \n",
       "4  ti odeio cristo és deus eterno pantéon preside...  "
      ]
     },
     "execution_count": 12,
     "metadata": {},
     "output_type": "execute_result"
    }
   ],
   "source": [
    "dados.head()"
   ]
  },
  {
   "cell_type": "markdown",
   "metadata": {},
   "source": [
    "## Passo 3: criação do modelo"
   ]
  },
  {
   "cell_type": "markdown",
   "metadata": {},
   "source": [
    "Para treinamento do modelo, optamos por utilizar os 4 heterônimos com mais textos (Bernardo Soares, Álvaro de Campos, Ricardo Reis e Alberto Caeiro). Os textos classificados como Fernando Pessoa serão utilizados para treinar o modelo de *tf-idf*, mas não serão utilizados para treinar os modelos de classificaçã."
   ]
  },
  {
   "cell_type": "code",
   "execution_count": 13,
   "metadata": {},
   "outputs": [
    {
     "data": {
      "text/plain": [
       "Fernando Pessoa     2327\n",
       "Bernardo Soares      503\n",
       "Álvaro de Campos     393\n",
       "Ricardo Reis         307\n",
       "Alberto Caeiro       127\n",
       "António Mora          95\n",
       "Alexander Search       7\n",
       "Name: autor, dtype: int64"
      ]
     },
     "execution_count": 13,
     "metadata": {},
     "output_type": "execute_result"
    }
   ],
   "source": [
    "dados.autor.value_counts()"
   ]
  },
  {
   "cell_type": "markdown",
   "metadata": {},
   "source": [
    "Criamos então o DataFrame `autores_principais`, o qual contém os quatro heterônimos mais frequentes."
   ]
  },
  {
   "cell_type": "code",
   "execution_count": 14,
   "metadata": {},
   "outputs": [
    {
     "data": {
      "text/plain": [
       "Bernardo Soares     503\n",
       "Álvaro de Campos    393\n",
       "Ricardo Reis        307\n",
       "Alberto Caeiro      127\n",
       "Name: autor, dtype: int64"
      ]
     },
     "execution_count": 14,
     "metadata": {},
     "output_type": "execute_result"
    }
   ],
   "source": [
    "autores_principais = ['Bernardo Soares', 'Álvaro de Campos', 'Ricardo Reis', 'Alberto Caeiro']\n",
    "dados_principais = dados[dados['autor'].isin(autores_principais)].copy()\n",
    "dados_principais.autor.value_counts()"
   ]
  },
  {
   "cell_type": "markdown",
   "metadata": {},
   "source": [
    "### Passo 3.1: codificação dos autores"
   ]
  },
  {
   "cell_type": "markdown",
   "metadata": {},
   "source": [
    "Para podermos montar um modelo classificatório, precisamos lidar com a coluna categórica *author* do DataFrame. O `LabelEncoder` do **scikit-learn** é capaz de lidar com o problema. "
   ]
  },
  {
   "cell_type": "code",
   "execution_count": 15,
   "metadata": {},
   "outputs": [],
   "source": [
    "le = LabelEncoder()\n",
    "dados_principais['autor_codificado'] = le.fit_transform(dados_principais['autor'])"
   ]
  },
  {
   "cell_type": "code",
   "execution_count": 16,
   "metadata": {},
   "outputs": [
    {
     "data": {
      "text/html": [
       "<div>\n",
       "<style scoped>\n",
       "    .dataframe tbody tr th:only-of-type {\n",
       "        vertical-align: middle;\n",
       "    }\n",
       "\n",
       "    .dataframe tbody tr th {\n",
       "        vertical-align: top;\n",
       "    }\n",
       "\n",
       "    .dataframe thead th {\n",
       "        text-align: right;\n",
       "    }\n",
       "</style>\n",
       "<table border=\"1\" class=\"dataframe\">\n",
       "  <thead>\n",
       "    <tr style=\"text-align: right;\">\n",
       "      <th></th>\n",
       "      <th>index</th>\n",
       "      <th>autor</th>\n",
       "      <th>tipo</th>\n",
       "      <th>texto</th>\n",
       "      <th>port</th>\n",
       "      <th>texto_stemizado</th>\n",
       "      <th>texto_lematizado</th>\n",
       "      <th>texto_l_s</th>\n",
       "      <th>texto_sem_stopwords</th>\n",
       "      <th>autor_codificado</th>\n",
       "    </tr>\n",
       "  </thead>\n",
       "  <tbody>\n",
       "    <tr>\n",
       "      <th>0</th>\n",
       "      <td>0</td>\n",
       "      <td>Ricardo Reis</td>\n",
       "      <td>poesia</td>\n",
       "      <td>Diana através dos ramos\\nEspreita a vinda de E...</td>\n",
       "      <td>True</td>\n",
       "      <td>dian atrav ram espreit vind endymion endymion ...</td>\n",
       "      <td>diana atraves ramos espreitar vir endymion end...</td>\n",
       "      <td>dian atrav ram espreit vir endymion endymion n...</td>\n",
       "      <td>diana através ramos espreita vinda endymion en...</td>\n",
       "      <td>2</td>\n",
       "    </tr>\n",
       "    <tr>\n",
       "      <th>2</th>\n",
       "      <td>3</td>\n",
       "      <td>Ricardo Reis</td>\n",
       "      <td>poesia</td>\n",
       "      <td>Aqui, sem outro Apolo do que Apolo,\\nSem um su...</td>\n",
       "      <td>True</td>\n",
       "      <td>aqu outr apol apol suspir abandon crist febr b...</td>\n",
       "      <td>aqui outro apolo apolo suspiro abandonemos cri...</td>\n",
       "      <td>aqu outr apol apol suspir abandon crist febr b...</td>\n",
       "      <td>aqui outro apolo apolo suspiro abandonemos cri...</td>\n",
       "      <td>2</td>\n",
       "    </tr>\n",
       "    <tr>\n",
       "      <th>3</th>\n",
       "      <td>5</td>\n",
       "      <td>Ricardo Reis</td>\n",
       "      <td>poesia</td>\n",
       "      <td>Em Ceres anoitece.\\nNos píncaros ainda\\nFaz lu...</td>\n",
       "      <td>True</td>\n",
       "      <td>cer anoitec pincar aind faz luz sint tao grand...</td>\n",
       "      <td>ceres anoitecer pincaros ainda fazer luz sinto...</td>\n",
       "      <td>cer anoitec pincar aind faz luz sint tao grand...</td>\n",
       "      <td>ceres anoitece píncaros ainda faz luz sinto tã...</td>\n",
       "      <td>2</td>\n",
       "    </tr>\n",
       "    <tr>\n",
       "      <th>4</th>\n",
       "      <td>8</td>\n",
       "      <td>Ricardo Reis</td>\n",
       "      <td>poesia</td>\n",
       "      <td>Não a ti, mas aos teus, odeio, Cristo.\\nTu não...</td>\n",
       "      <td>True</td>\n",
       "      <td>ti odei crist es deus etern panteon presid vid...</td>\n",
       "      <td>ti odeio cristo es deus eterno panteon preside...</td>\n",
       "      <td>ti odei crist es deus etern panteon presid vid...</td>\n",
       "      <td>ti odeio cristo és deus eterno pantéon preside...</td>\n",
       "      <td>2</td>\n",
       "    </tr>\n",
       "    <tr>\n",
       "      <th>6</th>\n",
       "      <td>10</td>\n",
       "      <td>Bernardo Soares</td>\n",
       "      <td>prosa</td>\n",
       "      <td>— A única vantagem de estudar é gozar o quanto...</td>\n",
       "      <td>True</td>\n",
       "      <td>unic vantag estud goz quant outr diss arte iso...</td>\n",
       "      <td>unica vantagem estudar gozar quanto outros diz...</td>\n",
       "      <td>unic vantag estud goz quant outr diz arte isol...</td>\n",
       "      <td>única vantagem estudar gozar quanto outros dis...</td>\n",
       "      <td>1</td>\n",
       "    </tr>\n",
       "  </tbody>\n",
       "</table>\n",
       "</div>"
      ],
      "text/plain": [
       "   index            autor    tipo  \\\n",
       "0      0     Ricardo Reis  poesia   \n",
       "2      3     Ricardo Reis  poesia   \n",
       "3      5     Ricardo Reis  poesia   \n",
       "4      8     Ricardo Reis  poesia   \n",
       "6     10  Bernardo Soares   prosa   \n",
       "\n",
       "                                               texto  port  \\\n",
       "0  Diana através dos ramos\\nEspreita a vinda de E...  True   \n",
       "2  Aqui, sem outro Apolo do que Apolo,\\nSem um su...  True   \n",
       "3  Em Ceres anoitece.\\nNos píncaros ainda\\nFaz lu...  True   \n",
       "4  Não a ti, mas aos teus, odeio, Cristo.\\nTu não...  True   \n",
       "6  — A única vantagem de estudar é gozar o quanto...  True   \n",
       "\n",
       "                                     texto_stemizado  \\\n",
       "0  dian atrav ram espreit vind endymion endymion ...   \n",
       "2  aqu outr apol apol suspir abandon crist febr b...   \n",
       "3  cer anoitec pincar aind faz luz sint tao grand...   \n",
       "4  ti odei crist es deus etern panteon presid vid...   \n",
       "6  unic vantag estud goz quant outr diss arte iso...   \n",
       "\n",
       "                                    texto_lematizado  \\\n",
       "0  diana atraves ramos espreitar vir endymion end...   \n",
       "2  aqui outro apolo apolo suspiro abandonemos cri...   \n",
       "3  ceres anoitecer pincaros ainda fazer luz sinto...   \n",
       "4  ti odeio cristo es deus eterno panteon preside...   \n",
       "6  unica vantagem estudar gozar quanto outros diz...   \n",
       "\n",
       "                                           texto_l_s  \\\n",
       "0  dian atrav ram espreit vir endymion endymion n...   \n",
       "2  aqu outr apol apol suspir abandon crist febr b...   \n",
       "3  cer anoitec pincar aind faz luz sint tao grand...   \n",
       "4  ti odei crist es deus etern panteon presid vid...   \n",
       "6  unic vantag estud goz quant outr diz arte isol...   \n",
       "\n",
       "                                 texto_sem_stopwords  autor_codificado  \n",
       "0  diana através ramos espreita vinda endymion en...                 2  \n",
       "2  aqui outro apolo apolo suspiro abandonemos cri...                 2  \n",
       "3  ceres anoitece píncaros ainda faz luz sinto tã...                 2  \n",
       "4  ti odeio cristo és deus eterno pantéon preside...                 2  \n",
       "6  única vantagem estudar gozar quanto outros dis...                 1  "
      ]
     },
     "execution_count": 16,
     "metadata": {},
     "output_type": "execute_result"
    }
   ],
   "source": [
    "dados_principais.head()"
   ]
  },
  {
   "cell_type": "markdown",
   "metadata": {},
   "source": [
    "### Passo 3.2: divisão do DataFrame em treino e teste"
   ]
  },
  {
   "cell_type": "markdown",
   "metadata": {},
   "source": [
    "Para essa tarefa, utilizamos `train_test_split`, com o DataFrame de teste contendo 10% do conteúdo do DataFrame original."
   ]
  },
  {
   "cell_type": "code",
   "execution_count": 17,
   "metadata": {},
   "outputs": [],
   "source": [
    "train_X, test_X, train_Y, test_Y = train_test_split(\n",
    "    dados_principais[['texto', 'texto_stemizado', 'texto_sem_stopwords', 'texto_l_s', 'texto_lematizado']],\n",
    "    dados_principais['autor_codificado'],\n",
    "    test_size = 0.1,\n",
    "    random_state = 42,\n",
    ")"
   ]
  },
  {
   "cell_type": "markdown",
   "metadata": {},
   "source": [
    "### Passo 3.3: criação do tf-idf"
   ]
  },
  {
   "cell_type": "markdown",
   "metadata": {},
   "source": [
    "Para criação do vetor do *tf-idf* utilizamos o texto lematizado e depois stemizados de **todos** autores. Depois aplicamos a transformação aprendida em todo o corpus nos DataFrames de teste e treino."
   ]
  },
  {
   "cell_type": "code",
   "execution_count": 18,
   "metadata": {},
   "outputs": [],
   "source": [
    "tfidf_vector = TfidfVectorizer()\n",
    "tfidf_vector.fit(dados_principais['texto_l_s'])\n",
    "\n",
    "train_X_tfidf = tfidf_vector.transform(train_X['texto_l_s'])\n",
    "test_X_tfidf = tfidf_vector.transform(test_X['texto_l_s'])\n",
    "\n",
    "dados_principais_tfidf = tfidf_vector.transform(dados_principais['texto_l_s'])"
   ]
  },
  {
   "cell_type": "markdown",
   "metadata": {},
   "source": [
    "### Passo 3.4: aplicando modelos"
   ]
  },
  {
   "cell_type": "markdown",
   "metadata": {},
   "source": [
    "Nesse notebook, optamos por utilizar dois modelos clássicos para classificação de texto utilizando *tf-idf*: *Gaussian Naive Bayes* e *Support Vector Machine*. Uma explicação detalhada dos modelos pode ser encontrada na nossa página do Medium: [Turing Talks](https://medium.com/turing-talks)."
   ]
  },
  {
   "cell_type": "markdown",
   "metadata": {},
   "source": [
    "#### 3.4.1 GaussianNaiveBayes"
   ]
  },
  {
   "cell_type": "code",
   "execution_count": 19,
   "metadata": {},
   "outputs": [
    {
     "name": "stdout",
     "output_type": "stream",
     "text": [
      "Acurácia do Naive Bayes: 60.902%\n"
     ]
    }
   ],
   "source": [
    "nb = GaussianNB()\n",
    "nb.fit(train_X_tfidf.toarray(), train_Y)\n",
    "predictions_nb = nb.predict(test_X_tfidf.toarray())\n",
    "acuracia = accuracy_score(predictions_nb, test_Y)\n",
    "print(f\"Acurácia do Naive Bayes: {acuracia*100:.3f}%\")"
   ]
  },
  {
   "cell_type": "markdown",
   "metadata": {},
   "source": [
    "#### 3.4.2 Support Vector Machine"
   ]
  },
  {
   "cell_type": "code",
   "execution_count": 20,
   "metadata": {},
   "outputs": [
    {
     "name": "stdout",
     "output_type": "stream",
     "text": [
      "Acurácia da SVM: 82.707%\n"
     ]
    }
   ],
   "source": [
    "svm = SVC(C=1.0, kernel='linear', degree=3, gamma='auto')\n",
    "svm.fit(train_X_tfidf, train_Y)\n",
    "predictions_svm = svm.predict(test_X_tfidf)\n",
    "acuracia = accuracy_score(predictions_svm, test_Y)\n",
    "print(f\"Acurácia da SVM: {acuracia*100:.3f}%\")"
   ]
  },
  {
   "cell_type": "markdown",
   "metadata": {},
   "source": [
    "A SVM obteve resultados muito mais satisfatórios. Além disso, durante os testes, a utilização da coluna *texto_l_s* aumentou em cerca de 8% a acurácia do modelo e por isso ela foi a escolhida para ser utilizada."
   ]
  },
  {
   "cell_type": "markdown",
   "metadata": {},
   "source": [
    "## Passo 4: visualizando os vetores do tf-idf utilizando redução de dimensionalidade"
   ]
  },
  {
   "cell_type": "markdown",
   "metadata": {},
   "source": [
    "Afim de obtermos uma visualização do *tf-idf*, aplicamos a transformação individualmente para cada autor e então reduzimos o vetor a duas dimensões utilizando o algoritmo **PCA**. A utilização de algoritmos mais complexos também se mostrou viável, mas optamos por não colocar suas aplicações nesse notebook."
   ]
  },
  {
   "cell_type": "markdown",
   "metadata": {},
   "source": [
    "### Passo 4.1: aplicando *tf-idf* para cada heterônimo "
   ]
  },
  {
   "cell_type": "code",
   "execution_count": 21,
   "metadata": {},
   "outputs": [],
   "source": [
    "bernardo = dados_principais[dados_principais.autor == 'Bernardo Soares']\n",
    "ricardo = dados_principais[dados_principais.autor == 'Ricardo Reis']\n",
    "campos = dados_principais[dados_principais.autor == 'Álvaro de Campos']\n",
    "alberto = dados_principais[dados_principais.autor == 'Alberto Caeiro']\n",
    "\n",
    "bernardo_tfidf = tfidf_vector.transform(bernardo.texto_stemizado)\n",
    "ricardo_tfidf = tfidf_vector.transform(ricardo.texto_stemizado)\n",
    "campos_tfidf = tfidf_vector.transform(campos.texto_stemizado)\n",
    "alberto_tfidf = tfidf_vector.transform(alberto.texto_stemizado)"
   ]
  },
  {
   "cell_type": "markdown",
   "metadata": {},
   "source": [
    "### Passo 4.2: aplicando PCA nos vetores do *tf-idf* e então utilizando matplotlib para visualizar os resultados"
   ]
  },
  {
   "cell_type": "markdown",
   "metadata": {},
   "source": [
    "Nesse passo, utlizamos uma simples transformação para duas dimensões e então plotamos o PCA em um scatter do matplotlib."
   ]
  },
  {
   "cell_type": "code",
   "execution_count": 22,
   "metadata": {},
   "outputs": [
    {
     "data": {
      "image/png": "[encoded data removed]",
      "text/plain": [
       "<Figure size 432x288 with 1 Axes>"
      ]
     },
     "metadata": {
      "needs_background": "light"
     },
     "output_type": "display_data"
    },
    {
     "data": {
      "image/png": "[encoded data removed]",
      "text/plain": [
       "<Figure size 432x288 with 1 Axes>"
      ]
     },
     "metadata": {
      "needs_background": "light"
     },
     "output_type": "display_data"
    },
    {
     "data": {
      "image/png": "[encoded data removed]",
      "text/plain": [
       "<Figure size 432x288 with 1 Axes>"
      ]
     },
     "metadata": {
      "needs_background": "light"
     },
     "output_type": "display_data"
    },
    {
     "data": {
      "image/png": "[encoded data removed]",
      "text/plain": [
       "<Figure size 432x288 with 1 Axes>"
      ]
     },
     "metadata": {
      "needs_background": "light"
     },
     "output_type": "display_data"
    }
   ],
   "source": [
    "data2D = PCA(n_components = 2).fit_transform(bernardo_tfidf.todense())\n",
    "plt.scatter(data2D[:, 0], data2D[:, 1], c = 'red', alpha = 0.5)\n",
    "plt.title('Bernardo Soares')\n",
    "plt.show()\n",
    "\n",
    "data2D = PCA(n_components = 2).fit_transform(alberto_tfidf.todense())\n",
    "plt.scatter(data2D[:, 0], data2D[:, 1], c = 'purple', alpha = 0.5)\n",
    "plt.title('Alberto Caeiro')\n",
    "plt.show()\n",
    "\n",
    "data2D = PCA(n_components = 2).fit_transform(ricardo_tfidf.todense())\n",
    "plt.scatter(data2D[:, 0], data2D[:, 1], c = 'blue', alpha = 0.5)\n",
    "plt.title('Ricardo Reis')\n",
    "plt.show()\n",
    "\n",
    "data2D = PCA(n_components = 2).fit_transform(campos_tfidf.todense())\n",
    "plt.scatter(data2D[:, 0], data2D[:, 1], c = 'green', alpha = 0.5)\n",
    "plt.title('Álvaro de Campos')\n",
    "plt.show()"
   ]
  }
 ],
 "metadata": {
  "colab": {
   "collapsed_sections": [],
   "name": "pessoa.ipynb",
   "provenance": []
  },
  "kernelspec": {
   "display_name": "Python 3",
   "language": "python",
   "name": "python3"
  },
  "language_info": {
   "codemirror_mode": {
    "name": "ipython",
    "version": 3
   },
   "file_extension": ".py",
   "mimetype": "text/x-python",
   "name": "python",
   "nbconvert_exporter": "python",
   "pygments_lexer": "ipython3",
   "version": "3.8.2"
  }
 },
 "nbformat": 4,
 "nbformat_minor": 4
}
